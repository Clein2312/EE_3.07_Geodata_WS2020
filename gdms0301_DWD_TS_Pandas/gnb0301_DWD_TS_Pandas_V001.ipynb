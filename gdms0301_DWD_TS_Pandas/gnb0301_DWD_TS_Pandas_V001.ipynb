{
 "cells": [
  {
   "cell_type": "markdown",
   "metadata": {},
   "source": [
    "# Process the Downloaded DWD Time Series with Pandas"
   ]
  },
  {
   "cell_type": "markdown",
   "metadata": {},
   "source": [
    "## 1. Development of procedure\n",
    "\n",
    "1. List the directory with the downloaded time series data (zip archives)\n",
    "1. unzip the first archive and look at the data\n",
    "1. Open the html meta data file in chrome and let it be translated.\n",
    "1. Load the TS data into Pandas.\n"
   ]
  },
  {
   "cell_type": "markdown",
   "metadata": {},
   "source": [
    "### Local Directory Storing the Downloaded FTP Archives"
   ]
  },
  {
   "cell_type": "code",
   "execution_count": null,
   "metadata": {},
   "outputs": [],
   "source": [
    "# This is the directory with the downloaded TS zip files.\n",
    "# TS stands for \"time series\". Better add a trailing \"/\" to make life easier ... \n",
    "\n",
    "localdir = \"data/DWD/TS/\" "
   ]
  },
  {
   "cell_type": "code",
   "execution_count": null,
   "metadata": {},
   "outputs": [],
   "source": [
    "import os\n",
    "filelist = []\n",
    "filelist = os.listdir(localdir)\n",
    "print()\n",
    "print(\"** You should see a list also showing the zip files. **\")\n",
    "print()\n",
    "print(filelist)"
   ]
  },
  {
   "cell_type": "markdown",
   "metadata": {},
   "source": [
    "### Let us use pathlib to select the zip archives only\n",
    "\n",
    "There are numerous ways to select files with extension \".zip\" \n",
    "\n",
    "* https://stackoverflow.com/questions/5899497/how-can-i-check-the-extension-of-a-file\n",
    "\n",
    "* https://docs.python.org/3/library/pathlib.html\n",
    "* https://www.linuxjournal.com/content/easier-python-paths-pathlib\n",
    "\n",
    "You can use the libs e.g.\n",
    "* os, \n",
    "* glob, \n",
    "* pathlib,\n",
    "* or others.\n"
   ]
  },
  {
   "cell_type": "code",
   "execution_count": null,
   "metadata": {},
   "outputs": [],
   "source": [
    "# There are many different ways to handle paths.\n",
    "# Here we try pathlib\n",
    "\n",
    "import pathlib\n",
    "p = pathlib.Path(localdir)"
   ]
  },
  {
   "cell_type": "code",
   "execution_count": null,
   "metadata": {},
   "outputs": [],
   "source": [
    "# create a list of all Path objects of the zip files\n",
    "ziplist = [elt for elt in p.iterdir() if elt.suffix == \".zip\"]\n",
    "print(\"** You should see a list of Path objects pointing to the zip files, e.g. WindowsPath or PosixPath **\")\n",
    "print()\n",
    "print(ziplist)"
   ]
  },
  {
   "cell_type": "code",
   "execution_count": null,
   "metadata": {
    "scrolled": true
   },
   "outputs": [],
   "source": [
    "# EXTRACT ALL Files in te zip archives, UNZIP\n",
    "from zipfile import ZipFile\n",
    "\n",
    "# time series directory list\n",
    "TSdirlist = []\n",
    "\n",
    "for elt in ziplist:\n",
    "    unzipdir = str(elt.parent) + \"\\\\\" + elt.stem    \n",
    "    ZipFile(elt).extractall(unzipdir)\n",
    "    TSdirlist.append(unzipdir)"
   ]
  },
  {
   "cell_type": "code",
   "execution_count": null,
   "metadata": {},
   "outputs": [],
   "source": [
    "# list the names of the new directories \n",
    "for elt in TSdirlist: print(elt)"
   ]
  },
  {
   "cell_type": "code",
   "execution_count": null,
   "metadata": {},
   "outputs": [],
   "source": [
    "# The files in one of the new unzipped directories\n",
    "exampledir = TSdirlist[0]\n",
    "p2 = pathlib.Path(exampledir)\n",
    "for elt in p2.iterdir(): print(elt.name)"
   ]
  },
  {
   "cell_type": "markdown",
   "metadata": {},
   "source": [
    "## 2. Extract the needed zip files only and add them to Pandas.\n",
    "\n",
    "1. How do you list elements in a zip arcive?\n",
    "1. What is the name of the data file with the TS data?\n",
    "1. How can you identify the file name from the list?\n",
    "1. Open this file from the zip archive and use pd.csv_read() to read it into a data frame."
   ]
  },
  {
   "cell_type": "markdown",
   "metadata": {},
   "source": [
    "## *** ANALYSE THE FOLLOWING CODE STEP BY STEP!"
   ]
  },
  {
   "cell_type": "code",
   "execution_count": null,
   "metadata": {},
   "outputs": [],
   "source": [
    "import pandas as pd"
   ]
  },
  {
   "cell_type": "code",
   "execution_count": null,
   "metadata": {
    "scrolled": true
   },
   "outputs": [],
   "source": [
    "#\n",
    "# <MISSING CODE>\n",
    "#"
   ]
  },
  {
   "cell_type": "code",
   "execution_count": null,
   "metadata": {},
   "outputs": [],
   "source": [
    "df.head()"
   ]
  },
  {
   "cell_type": "code",
   "execution_count": null,
   "metadata": {},
   "outputs": [],
   "source": [
    "df.tail()"
   ]
  },
  {
   "cell_type": "code",
   "execution_count": null,
   "metadata": {},
   "outputs": [],
   "source": [
    "df.shape"
   ]
  },
  {
   "cell_type": "markdown",
   "metadata": {},
   "source": [
    "## Plot a heatmap and analyse the data, e.g. availability, trend, etc."
   ]
  },
  {
   "cell_type": "code",
   "execution_count": null,
   "metadata": {},
   "outputs": [],
   "source": [
    "import seaborn as sns\n",
    "import matplotlib.pyplot as plt\n",
    "%matplotlib inline\n",
    "\n",
    "# plot\n",
    "sns.set_style('ticks')\n",
    "fig, ax = plt.subplots(dpi = 400, figsize = (12,24))\n",
    "\n",
    "sns.heatmap(df, cmap='RdYlGn_r', annot=False)\n",
    "# _r reverses the normal order of the color map 'RdYlGn'\n",
    "\n",
    "#sns.heatmap(df, cmap='coolwarm', annot=True, vmin = 8, vmax = 12, ax = ax)\n",
    "ax.set_yticklabels(df.index.strftime('%Y'))\n",
    "plt.show()\n",
    "#fig.savefig('example1.png')"
   ]
  },
  {
   "cell_type": "markdown",
   "metadata": {},
   "source": [
    "## Plot only the columns showing 2018 a temperature above a given threshold."
   ]
  },
  {
   "cell_type": "code",
   "execution_count": null,
   "metadata": {},
   "outputs": [],
   "source": [
    "#\n",
    "# <MISSING CODE>\n",
    "#"
   ]
  },
  {
   "cell_type": "code",
   "execution_count": null,
   "metadata": {},
   "outputs": [],
   "source": [
    "import seaborn as sns\n",
    "import matplotlib.pyplot as plt\n",
    "%matplotlib inline\n",
    "\n",
    "# plot\n",
    "sns.set_style('ticks')\n",
    "fig, ax = plt.subplots(dpi = 400, figsize = (12,24))\n",
    "\n",
    "# the size of A4 paper\n",
    "#fig.set_size_inches(12, 30)\n",
    "#sns.violinplot(data=d, inner=\"points\", ax=ax)    \n",
    "#sns.despine()\n",
    "\n",
    "#sns.heatmap(df, cmap='RdYlGn_r', annot=False)\n",
    "sns.heatmap(df[cols], cmap='coolwarm', annot=True, vmin = 8, vmax = 12, ax = ax)\n",
    "ax.set_yticklabels(df.index.strftime('%Y'))\n",
    "\n",
    "#ax.set_xticklabels(df['year'].dt.strftime('%d-%m-%Y'))\n",
    "\n",
    "fig.savefig('example2.png')\n",
    "\n",
    "\n",
    "# _r reverses the normal order of the color map 'RdYlGn'\n"
   ]
  },
  {
   "cell_type": "code",
   "execution_count": null,
   "metadata": {},
   "outputs": [],
   "source": []
  },
  {
   "cell_type": "markdown",
   "metadata": {},
   "source": [
    "More on style:\n",
    "https://pandas.pydata.org/pandas-docs/stable/user_guide/style.html"
   ]
  },
  {
   "cell_type": "code",
   "execution_count": null,
   "metadata": {},
   "outputs": [],
   "source": [
    "df.style.background_gradient(cmap='coolwarm')"
   ]
  },
  {
   "cell_type": "code",
   "execution_count": null,
   "metadata": {},
   "outputs": [],
   "source": []
  }
 ],
 "metadata": {
  "kernelspec": {
   "display_name": "Python 3",
   "language": "python",
   "name": "python3"
  },
  "language_info": {
   "codemirror_mode": {
    "name": "ipython",
    "version": 3
   },
   "file_extension": ".py",
   "mimetype": "text/x-python",
   "name": "python",
   "nbconvert_exporter": "python",
   "pygments_lexer": "ipython3",
   "version": "3.8.3"
  }
 },
 "nbformat": 4,
 "nbformat_minor": 4
}
